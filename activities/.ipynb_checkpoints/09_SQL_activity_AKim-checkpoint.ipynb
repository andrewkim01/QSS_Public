{
 "cells": [
  {
   "cell_type": "code",
   "execution_count": 1,
   "metadata": {},
   "outputs": [],
   "source": [
    "## imports \n",
    "import pandas as pd\n",
    "import numpy as np\n",
    "import yaml\n",
    "import warnings\n",
    "warnings.filterwarnings(\"ignore\", category=UserWarning)\n",
    "\n",
    "# comment these out if you don't have plotnine--not essential here/only used once\n",
    "import matplotlib.pyplot as plt\n",
    "import plotnine\n",
    "from plotnine import *\n",
    "\n",
    "## way to connect to mysql \n",
    "## if you need to install\n",
    "## uncomment this line:\n",
    "# ! pip install mysql-connector-python\n",
    "import mysql.connector\n",
    "\n",
    "## function to feed path name to load\n",
    "## credentials\n",
    "def load_creds(path: str):\n",
    "    with open(path, 'r') as stream:\n",
    "        try:\n",
    "            creds = yaml.safe_load(stream)\n",
    "        except yaml.YAMLError as exc:\n",
    "            print(exc)\n",
    "    return(creds)\n",
    "\n",
    "pd.options.display.max_rows = 999\n",
    "from IPython.core.interactiveshell import InteractiveShell\n",
    "InteractiveShell.ast_node_interactivity = \"all\""
   ]
  },
  {
   "cell_type": "markdown",
   "metadata": {},
   "source": [
    "# Preliminary: define connection and read sample of data"
   ]
  },
  {
   "cell_type": "code",
   "execution_count": 2,
   "metadata": {},
   "outputs": [],
   "source": [
    "## read in creds; change the path name if stored\n",
    "## elsewhere\n",
    "creds = load_creds(\"09_db_cred.yaml\")\n"
   ]
  },
  {
   "cell_type": "code",
   "execution_count": 3,
   "metadata": {},
   "outputs": [
    {
     "data": {
      "text/plain": [
       "<mysql.connector.connection.MySQLConnection at 0x13e97b310>"
      ]
     },
     "execution_count": 3,
     "metadata": {},
     "output_type": "execute_result"
    }
   ],
   "source": [
    "## connect to the database\n",
    "cnx = mysql.connector.connect(user=creds['practice_database']['user'], \n",
    "                            password=creds['practice_database']['password'],\n",
    "                            port=creds['practice_database']['port'],\n",
    "                            database= creds['practice_database']['database'],\n",
    "                            host = creds['practice_database']['host'])\n",
    "cnx"
   ]
  },
  {
   "cell_type": "markdown",
   "metadata": {},
   "source": [
    "# Activity 1\n",
    "\n",
    "1. Create a new column -- `in_chicago` when pulling from the `caseinit` table that takes on the value of \"YES\" if INCIDENT_CITY = Chicago; \"NO\" otherwise (which represents incidents in Cook County suburbs outside the city limits);  and pull the table. Use `crosstabs` to confirm that this worked\n",
    "2. Repeat step 1 but also filter out blank strings (`INCIDENT_CITY` == \"\")\n",
    "3. Use `where` to row filter to initiations in Chicago and use group by to find the count of cases diverted and not diverted (`is_in_diversion`); pull the table with those counts\n",
    "4. Modify the query in step 3 to find the proportion of cases in chicago diverted (hint you made need to use case when in a subquery)\n",
    "5. Modify the query in step 4 to find the proportion of cases in chicago versus cases not in chicago sent to diversion \n"
   ]
  },
  {
   "cell_type": "code",
   "execution_count": null,
   "metadata": {},
   "outputs": [],
   "source": [
    "# your code here 1\n",
    "\n",
    "# q=\"\"\"\n",
    "# SELECT *,\n",
    "# CASE \n",
    "#     WHEN INCIDENT_CITY = 'Chicago'\n",
    "#     THEN 'YES'\n",
    "#     ELSE 'NO'\n",
    "# END as in_chicago\n",
    "# FROM caseinit\n",
    "# LIMIT 5\n",
    "# \"\"\"\n",
    "\n",
    "q=\"\"\"\n",
    "SELECT\n",
    "    *\n",
    "FROM caseinit\n",
    "LIMIT 5\n",
    "\"\"\"\n",
    "\n",
    "pd.read_sql_query(q, cnx)"
   ]
  },
  {
   "cell_type": "code",
   "execution_count": null,
   "metadata": {},
   "outputs": [],
   "source": [
    "q=\"\"\"\n",
    "select *,\n",
    "CASE \n",
    "    WHEN INCIDENT_CITY = 'Chicago'\n",
    "    THEN 'YES'\n",
    "    ELSE 'NO'\n",
    "END as in_chicago\n",
    "FROM caseinit\n",
    "LIMIT 5\n",
    "\"\"\"\n",
    "varcreate = pd.read_sql_query(q, cnx)\n",
    "pd.crosstab(varcreate.in_chicago, varcreate.INCIDENT_CITY).t_head()"
   ]
  },
  {
   "cell_type": "code",
   "execution_count": null,
   "metadata": {},
   "outputs": [],
   "source": [
    "# pd.crosstab(index=[\"INCIDENT_CITY\"], columns=[\"in_chicago\"])"
   ]
  },
  {
   "cell_type": "code",
   "execution_count": null,
   "metadata": {},
   "outputs": [],
   "source": [
    "# your code here 2\n",
    "q=\"\"\"\n",
    "select *,\n",
    "CASE \n",
    "    WHEN INCIDENT_CITY = 'Chicago'\n",
    "    THEN 'YES'\n",
    "    ELSE 'NO'\n",
    "END as in_chicago\n",
    "FROM caseinit\n",
    "WHERE INCIDENT_CITY != \"\"\n",
    "LIMIT 5\n",
    "\"\"\"\n",
    "pd.read_sql_query(q, cnx)"
   ]
  },
  {
   "cell_type": "code",
   "execution_count": null,
   "metadata": {},
   "outputs": [],
   "source": [
    "# your code here 3\n",
    "q=\"\"\"\n",
    "select *,\n",
    "from caseinit\n",
    "inner join\n",
    "    (select CASE_ID as cid,\n",
    "    CASE_PARTICIPANT_ID as cpid,\n",
    "    INCIDENT_CITY,\n",
    "    CASE \n",
    "        WHEN INCIDENT_CITY = 'Chicago'\n",
    "        THEN 'YES'\n",
    "        ELSE 'NO'\n",
    "    END as in_chicago\n",
    "    FROM caseinit) as tmp\n",
    "    on tmp.cid = caseinit.CASE_ID and\n",
    "    tmp.cpid = caseinit.CASE_PARTICIPANT_ID\n",
    "\n",
    "FROM tmp\n",
    "WHERE in_chicago = \"YES\"\n",
    "LIMIT 5\n",
    "\"\"\"\n",
    "\n",
    "pd.read_sql_query(q, cnx)"
   ]
  },
  {
   "cell_type": "code",
   "execution_count": null,
   "metadata": {},
   "outputs": [],
   "source": [
    "# your code here 4"
   ]
  },
  {
   "cell_type": "code",
   "execution_count": null,
   "metadata": {},
   "outputs": [],
   "source": [
    "# your code here 5"
   ]
  },
  {
   "cell_type": "markdown",
   "metadata": {},
   "source": [
    "# Activity 2 \n",
    "\n",
    "1. Use the following crosswalk and the `CASE` variable in the `divert` table to create a new variable `DIVERSION_PROGRAM_TEXT` that spells out the diversion programs\n",
    "    - DC: Drug Court\n",
    "\n",
    "    - DDPP: Drug Deferred Prosecution\n",
    "\n",
    "    - DS: Drug School\n",
    "\n",
    "    - RJCC: Restorative Justice\n",
    "\n",
    "    - MHC: Mental Health Court\n",
    "\n",
    "    - VC: Veteran Court\n",
    "\n",
    "2. Build on the query from step 1 to filter to Narcotics as the `UPDATED_OFFENSE_CATEGORY` and Black or White defendants (based on race in the diversions table) (hint: you'll need to join with the caseinit table based on case_id and case_participant_id, you can do a inner join to keep only those diverted). Select the case_id, case_participant_id, case, race, and diversion_program_text columns"
   ]
  },
  {
   "cell_type": "code",
   "execution_count": 5,
   "metadata": {
    "collapsed": true
   },
   "outputs": [
    {
     "data": {
      "text/html": [
       "<div>\n",
       "<style scoped>\n",
       "    .dataframe tbody tr th:only-of-type {\n",
       "        vertical-align: middle;\n",
       "    }\n",
       "\n",
       "    .dataframe tbody tr th {\n",
       "        vertical-align: top;\n",
       "    }\n",
       "\n",
       "    .dataframe thead th {\n",
       "        text-align: right;\n",
       "    }\n",
       "</style>\n",
       "<table border=\"1\" class=\"dataframe\">\n",
       "  <thead>\n",
       "    <tr style=\"text-align: right;\">\n",
       "      <th></th>\n",
       "      <th>CASE_ID</th>\n",
       "      <th>CASE_PARTICIPANT_ID</th>\n",
       "      <th>RECEIVED_DATE</th>\n",
       "      <th>OFFENSE_CATEGORY</th>\n",
       "      <th>DIVERSION_PROGRAM</th>\n",
       "      <th>REFERRAL_DATE</th>\n",
       "      <th>DIVERSION_COUNT</th>\n",
       "      <th>PRIMARY_CHARGE_OFFENSE_TITLE</th>\n",
       "      <th>STATUTE</th>\n",
       "      <th>RACE</th>\n",
       "      <th>GENDER</th>\n",
       "      <th>DIVERSION_RESULT</th>\n",
       "      <th>DIVERSION_CLOSED_DATE</th>\n",
       "    </tr>\n",
       "  </thead>\n",
       "  <tbody>\n",
       "    <tr>\n",
       "      <th>0</th>\n",
       "      <td>506061999169</td>\n",
       "      <td>347644693595</td>\n",
       "      <td>01/01/2011 12:00:00 AM</td>\n",
       "      <td>Retail Theft</td>\n",
       "      <td>DS</td>\n",
       "      <td>06/17/2013 12:00:00 AM</td>\n",
       "      <td>2</td>\n",
       "      <td>RETAIL THEFT</td>\n",
       "      <td>720 ILCS 5/16A-3(a)</td>\n",
       "      <td>Black</td>\n",
       "      <td>Male</td>\n",
       "      <td>Graduated</td>\n",
       "      <td>06/17/2013 12:00:00 AM</td>\n",
       "    </tr>\n",
       "    <tr>\n",
       "      <th>1</th>\n",
       "      <td>506061999169</td>\n",
       "      <td>347644693595</td>\n",
       "      <td>01/01/2011 12:00:00 AM</td>\n",
       "      <td>Retail Theft</td>\n",
       "      <td>VC</td>\n",
       "      <td>08/11/2011 12:00:00 AM</td>\n",
       "      <td>1</td>\n",
       "      <td>RETAIL THEFT</td>\n",
       "      <td>720 ILCS 5/16A-3(a)</td>\n",
       "      <td>Black</td>\n",
       "      <td>Male</td>\n",
       "      <td></td>\n",
       "      <td></td>\n",
       "    </tr>\n",
       "    <tr>\n",
       "      <th>2</th>\n",
       "      <td>506066271711</td>\n",
       "      <td>347649309720</td>\n",
       "      <td>01/02/2011 12:00:00 AM</td>\n",
       "      <td>Retail Theft</td>\n",
       "      <td>MHC</td>\n",
       "      <td>09/14/2012 12:00:00 AM</td>\n",
       "      <td>1</td>\n",
       "      <td>RETAIL THEFT</td>\n",
       "      <td>720 ILCS 5/16A-3(a)</td>\n",
       "      <td>Black</td>\n",
       "      <td>Male</td>\n",
       "      <td>Failed</td>\n",
       "      <td>09/14/2012 12:00:00 AM</td>\n",
       "    </tr>\n",
       "    <tr>\n",
       "      <th>3</th>\n",
       "      <td>506071709491</td>\n",
       "      <td>347654941393</td>\n",
       "      <td>01/03/2011 12:00:00 AM</td>\n",
       "      <td>Narcotics</td>\n",
       "      <td>MHC</td>\n",
       "      <td>07/27/2018 12:00:00 AM</td>\n",
       "      <td>1</td>\n",
       "      <td>[POSSESSION OF CONTROLLED SUBSTANCE WITH INTEN...</td>\n",
       "      <td>720 ILCS 570/401(d)(i)</td>\n",
       "      <td>Black</td>\n",
       "      <td>Female</td>\n",
       "      <td></td>\n",
       "      <td></td>\n",
       "    </tr>\n",
       "    <tr>\n",
       "      <th>4</th>\n",
       "      <td>506071709491</td>\n",
       "      <td>347654987555</td>\n",
       "      <td>01/03/2011 12:00:00 AM</td>\n",
       "      <td>Narcotics</td>\n",
       "      <td>MHC</td>\n",
       "      <td>07/27/2018 12:00:00 AM</td>\n",
       "      <td>1</td>\n",
       "      <td>POSSESSION OF A CONTROLLED SUBSTANCE</td>\n",
       "      <td>720 ILCS 570/402(c)</td>\n",
       "      <td>White</td>\n",
       "      <td>Male</td>\n",
       "      <td></td>\n",
       "      <td></td>\n",
       "    </tr>\n",
       "  </tbody>\n",
       "</table>\n",
       "</div>"
      ],
      "text/plain": [
       "        CASE_ID  CASE_PARTICIPANT_ID           RECEIVED_DATE OFFENSE_CATEGORY  \\\n",
       "0  506061999169         347644693595  01/01/2011 12:00:00 AM     Retail Theft   \n",
       "1  506061999169         347644693595  01/01/2011 12:00:00 AM     Retail Theft   \n",
       "2  506066271711         347649309720  01/02/2011 12:00:00 AM     Retail Theft   \n",
       "3  506071709491         347654941393  01/03/2011 12:00:00 AM        Narcotics   \n",
       "4  506071709491         347654987555  01/03/2011 12:00:00 AM        Narcotics   \n",
       "\n",
       "  DIVERSION_PROGRAM           REFERRAL_DATE  DIVERSION_COUNT  \\\n",
       "0                DS  06/17/2013 12:00:00 AM                2   \n",
       "1                VC  08/11/2011 12:00:00 AM                1   \n",
       "2               MHC  09/14/2012 12:00:00 AM                1   \n",
       "3               MHC  07/27/2018 12:00:00 AM                1   \n",
       "4               MHC  07/27/2018 12:00:00 AM                1   \n",
       "\n",
       "                        PRIMARY_CHARGE_OFFENSE_TITLE                 STATUTE  \\\n",
       "0                                       RETAIL THEFT     720 ILCS 5/16A-3(a)   \n",
       "1                                       RETAIL THEFT     720 ILCS 5/16A-3(a)   \n",
       "2                                       RETAIL THEFT     720 ILCS 5/16A-3(a)   \n",
       "3  [POSSESSION OF CONTROLLED SUBSTANCE WITH INTEN...  720 ILCS 570/401(d)(i)   \n",
       "4               POSSESSION OF A CONTROLLED SUBSTANCE     720 ILCS 570/402(c)   \n",
       "\n",
       "    RACE  GENDER DIVERSION_RESULT   DIVERSION_CLOSED_DATE  \n",
       "0  Black    Male        Graduated  06/17/2013 12:00:00 AM  \n",
       "1  Black    Male                                           \n",
       "2  Black    Male           Failed  09/14/2012 12:00:00 AM  \n",
       "3  Black  Female                                           \n",
       "4  White    Male                                           "
      ]
     },
     "execution_count": 5,
     "metadata": {},
     "output_type": "execute_result"
    }
   ],
   "source": [
    "# your code here 1\n",
    "q1=\"\"\"\n",
    "SELECT \n",
    "    *\n",
    "FROM divert\n",
    "LIMIT 5\n",
    "\"\"\"\n",
    "\n",
    "pd.read_sql_query(q1, cnx)"
   ]
  },
  {
   "cell_type": "code",
   "execution_count": null,
   "metadata": {},
   "outputs": [],
   "source": [
    "q1 = \"\"\"\n",
    "SELECT *,\n",
    "    CASE WHEN DIVERSION_PROGRAM = 'DC' as 'Drug Court'\n",
    "    WHEN DIVERSION_PROGRAM = 'DDPP' as 'Drug Deferred Prosecution'\n",
    "\"\"\""
   ]
  },
  {
   "cell_type": "code",
   "execution_count": null,
   "metadata": {},
   "outputs": [],
   "source": [
    "# your code here 2\n",
    "\n"
   ]
  }
 ],
 "metadata": {
  "kernelspec": {
   "display_name": "Python 3 (ipykernel)",
   "language": "python",
   "name": "python3"
  },
  "language_info": {
   "codemirror_mode": {
    "name": "ipython",
    "version": 3
   },
   "file_extension": ".py",
   "mimetype": "text/x-python",
   "name": "python",
   "nbconvert_exporter": "python",
   "pygments_lexer": "ipython3",
   "version": "3.11.4"
  }
 },
 "nbformat": 4,
 "nbformat_minor": 4
}
